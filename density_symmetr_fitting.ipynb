{
 "cells": [
  {
   "cell_type": "code",
   "execution_count": 71,
   "metadata": {},
   "outputs": [],
   "source": [
    "import pandas as pd\n",
    "import numpy as np\n",
    "import matplotlib.pyplot as plt"
   ]
  },
  {
   "cell_type": "code",
   "execution_count": 2,
   "metadata": {},
   "outputs": [],
   "source": [
    "#data = np.loadtxt('FFssFF.N.SGL.360K.Ramp.dat')"
   ]
  },
  {
   "cell_type": "code",
   "execution_count": 295,
   "metadata": {},
   "outputs": [
    {
     "data": {
      "text/plain": [
       "<matplotlib.collections.LineCollection at 0x7f2e13325220>"
      ]
     },
     "execution_count": 295,
     "metadata": {},
     "output_type": "execute_result"
    },
    {
     "data": {
      "image/png": "[encoded data removed]",
      "text/plain": [
       "<Figure size 432x288 with 1 Axes>"
      ]
     },
     "metadata": {
      "needs_background": "light"
     },
     "output_type": "display_data"
    }
   ],
   "source": [
    "df = pd.read_csv('FFssFF.N.SGL.360K.Ramp.dat',delim_whitespace=True, names=['z','count'])\n",
    "#df = pd.read_csv('FFssFF.N.SGL.340K.Ramp.dat',delim_whitespace=True, names=['z','count'])\n",
    "#df = pd.read_csv('FFssFF.N.SGL.340K.dat',delim_whitespace=True, names=['z','count'])\n",
    "#df = pd.read_csv('FFssFF.N.SGL.310K.dat',delim_whitespace=True, names=['z','count'])\n",
    "#df = pd.read_csv('FFssFF.N.SGL.294K.dat',delim_whitespace=True, names=['z','count'])\n",
    "#df = pd.read_csv('FFssFF.N.SGL.326K.dat',delim_whitespace=True, names=['z','count'])\n",
    "\n",
    "\n",
    "plt.plot(df['z'], df['count'])\n",
    "plt.vlines(x= 0, ymin= 0.0, ymax= 4.2, color='red', linestyle ='dashed', linewidth = 2)"
   ]
  },
  {
   "cell_type": "code",
   "execution_count": 296,
   "metadata": {},
   "outputs": [
    {
     "data": {
      "text/plain": [
       "<matplotlib.collections.LineCollection at 0x7f2e1235c9d0>"
      ]
     },
     "execution_count": 296,
     "metadata": {},
     "output_type": "execute_result"
    },
    {
     "data": {
      "image/png": "[encoded data removed]",
      "text/plain": [
       "<Figure size 432x288 with 1 Axes>"
      ]
     },
     "metadata": {
      "needs_background": "light"
     },
     "output_type": "display_data"
    }
   ],
   "source": [
    "zmod=df['z'].iloc[::]\n",
    "cmod=df['count'].iloc[::]\n",
    "cmod2 = np.roll(cmod, -5)\n",
    "plt.plot(zmod, cmod2)\n",
    "plt.vlines(x= 0, ymin= 0.0, ymax=4.2, color='red', linestyle ='dashed', linewidth = 2)"
   ]
  },
  {
   "cell_type": "code",
   "execution_count": 297,
   "metadata": {},
   "outputs": [],
   "source": [
    "# convert into array\n",
    "zmod2= zmod.to_numpy()\n",
    "## save csv file from array\n",
    "dd = pd.DataFrame({\"z\" : zmod2, \"density\" : cmod2})\n",
    "dd.to_csv(\"FFssFF.mix.360K.ramp.mod.csv\", index=False)"
   ]
  },
  {
   "cell_type": "markdown",
   "metadata": {},
   "source": [
    "# symmetry operation"
   ]
  },
  {
   "cell_type": "code",
   "execution_count": 298,
   "metadata": {},
   "outputs": [],
   "source": [
    "#symmetry operation\n",
    "import pandas as pd\n",
    "import numpy as np\n",
    "data= np.genfromtxt('FFssFF.mix.360K.ramp.mod.csv', delimiter=',', skip_header=1)\n",
    "\n",
    "#  FFssFF.mix.310K.mod.csv\n",
    "# FFssFF.mix.340K.Ramped.mod.csv\n",
    "\n",
    "\n",
    "#data = np.loadtxt('FFssFF.mix.294K.mod.csv', )\n",
    "x = data[:,0]\n",
    "y = data[:,1]\n",
    "top =[]\n",
    "bottom = []\n",
    "mid =int(len(x)/2)\n",
    "for i in range(mid,0,-1):\n",
    "    top.append(y[i])\n",
    "for i in range(mid,int(len(x))):\n",
    "    bottom.append(y[i])\n",
    "ans = (np.array(top) + np.array(bottom))/2\n",
    "\n",
    "xbottom = []\n",
    "for j in range(mid, int(len(x))):\n",
    "    xbottom.append(x[j])\n",
    "zaxis = np.array(xbottom)\n",
    "\n",
    "file = np.stack((zaxis, ans), axis=1)\n",
    "np.savetxt('avg.N.SGL.360K.ramp.tt.dat',file, fmt='%.2f', delimiter=' ')"
   ]
  },
  {
   "cell_type": "code",
   "execution_count": null,
   "metadata": {},
   "outputs": [],
   "source": []
  },
  {
   "cell_type": "code",
   "execution_count": null,
   "metadata": {},
   "outputs": [],
   "source": []
  },
  {
   "cell_type": "code",
   "execution_count": null,
   "metadata": {},
   "outputs": [],
   "source": []
  },
  {
   "cell_type": "code",
   "execution_count": null,
   "metadata": {},
   "outputs": [],
   "source": []
  },
  {
   "cell_type": "code",
   "execution_count": null,
   "metadata": {},
   "outputs": [],
   "source": []
  },
  {
   "cell_type": "markdown",
   "metadata": {},
   "source": [
    "# Fitting_symmetry_graph"
   ]
  },
  {
   "cell_type": "code",
   "execution_count": 213,
   "metadata": {},
   "outputs": [
    {
     "name": "stdout",
     "output_type": "stream",
     "text": [
      "[ 3.76339976  0.01738167  9.50161601 15.63607938]\n"
     ]
    },
    {
     "data": {
      "text/plain": [
       "[<matplotlib.lines.Line2D at 0x7f2e12cae220>]"
      ]
     },
     "execution_count": 213,
     "metadata": {},
     "output_type": "execute_result"
    },
    {
     "data": {
      "image/png": "[encoded data removed]",
      "text/plain": [
       "<Figure size 432x288 with 1 Axes>"
      ]
     },
     "metadata": {
      "needs_background": "light"
     },
     "output_type": "display_data"
    }
   ],
   "source": [
    "from numpy import genfromtxt\n",
    "import numpy as np\n",
    "import matplotlib.pyplot as plt\n",
    "from scipy.optimize import curve_fit\n",
    "data = genfromtxt('avg.N.SGL.294K.tt.dat', delimiter=' ')\n",
    "def func(x,a, b,w,z):\n",
    "    # return 1- np.exp(-(k*x)**n)\n",
    "    return ((a+b)/2) - ((a-b)/2)*np.tanh((x-z)/w)\n",
    "\n",
    "xdata = data[:,0]\n",
    "ydata = data[:,1]\n",
    "xdata_cut = []\n",
    "ydata_cut = []\n",
    "for i in range(len(xdata)):\n",
    "    if xdata[i] < 60:\n",
    "        xdata_cut.append(xdata[i])\n",
    "        ydata_cut.append(ydata[i])\n",
    "\n",
    "popt, pcov = curve_fit(func, xdata_cut, ydata_cut,p0=np.asarray([1,0.003,0.9,17.4]))\n",
    "print(popt)\n",
    "plt.plot(xdata_cut, func(xdata_cut, *popt), 'r--',linewidth=3)\n",
    "# plt.plot(xdata_cut,ydata_cut,'o',color='blue',label=r'T=0.65,$\\rho$=%0.5f,R=%0.2f,w=%0.2f'%(popt[0],popt[3],popt[2]))\n",
    "plt.plot(xdata_cut,ydata_cut,'o',markersize=4,color='blue',label=r'T=0.65')\n"
   ]
  },
  {
   "cell_type": "code",
   "execution_count": 303,
   "metadata": {},
   "outputs": [
    {
     "data": {
      "text/plain": [
       "[3.39,\n",
       " 3.6,\n",
       " 3.59,\n",
       " 3.34,\n",
       " 2.98,\n",
       " 2.6,\n",
       " 2.38,\n",
       " 1.97,\n",
       " 1.58,\n",
       " 1.38,\n",
       " 1.05,\n",
       " 0.67,\n",
       " 0.43,\n",
       " 0.29,\n",
       " 0.18,\n",
       " 0.11,\n",
       " 0.07,\n",
       " 0.06,\n",
       " 0.05,\n",
       " 0.04,\n",
       " 0.04,\n",
       " 0.04,\n",
       " 0.03,\n",
       " 0.03,\n",
       " 0.03,\n",
       " 0.04,\n",
       " 0.04,\n",
       " 0.04,\n",
       " 0.04,\n",
       " 0.04]"
      ]
     },
     "execution_count": 303,
     "metadata": {},
     "output_type": "execute_result"
    }
   ],
   "source": [
    "ydata_cut"
   ]
  },
  {
   "cell_type": "code",
   "execution_count": 299,
   "metadata": {},
   "outputs": [
    {
     "ename": "NameError",
     "evalue": "name 'pz_tolist' is not defined",
     "output_type": "error",
     "traceback": [
      "\u001b[0;31m---------------------------------------------------------------------------\u001b[0m",
      "\u001b[0;31mNameError\u001b[0m                                 Traceback (most recent call last)",
      "\u001b[0;32m<ipython-input-299-13ab93d63d78>\u001b[0m in \u001b[0;36m<module>\u001b[0;34m\u001b[0m\n\u001b[0;32m----> 1\u001b[0;31m \u001b[0mdf\u001b[0m \u001b[0;34m=\u001b[0m \u001b[0mpd\u001b[0m\u001b[0;34m.\u001b[0m\u001b[0mDataFrame\u001b[0m\u001b[0;34m(\u001b[0m\u001b[0;34m{\u001b[0m\u001b[0;34m\"z\"\u001b[0m \u001b[0;34m:\u001b[0m \u001b[0mxdata_cut\u001b[0m\u001b[0;34m,\u001b[0m \u001b[0;34m\"p(z)\"\u001b[0m \u001b[0;34m:\u001b[0m \u001b[0mpz_tolist\u001b[0m\u001b[0;34m,\u001b[0m \u001b[0;34m\"raw_p(z)\"\u001b[0m\u001b[0;34m:\u001b[0m \u001b[0mydata_cut\u001b[0m\u001b[0;34m}\u001b[0m\u001b[0;34m)\u001b[0m\u001b[0;34m\u001b[0m\u001b[0;34m\u001b[0m\u001b[0m\n\u001b[0m\u001b[1;32m      2\u001b[0m \u001b[0mdf\u001b[0m\u001b[0;34m.\u001b[0m\u001b[0mto_csv\u001b[0m\u001b[0;34m(\u001b[0m\u001b[0;34m\"fitting.FFssFF.N.294K.fitting.csv\"\u001b[0m\u001b[0;34m,\u001b[0m \u001b[0mindex\u001b[0m\u001b[0;34m=\u001b[0m\u001b[0;32mFalse\u001b[0m\u001b[0;34m,\u001b[0m \u001b[0mfloat_format\u001b[0m\u001b[0;34m=\u001b[0m\u001b[0;34m'%.3f'\u001b[0m\u001b[0;34m)\u001b[0m\u001b[0;34m\u001b[0m\u001b[0;34m\u001b[0m\u001b[0m\n",
      "\u001b[0;31mNameError\u001b[0m: name 'pz_tolist' is not defined"
     ]
    }
   ],
   "source": [
    "df = pd.DataFrame({\"z\" : xdata_cut, \"p(z)\" : pz_tolist, \"raw_p(z)\": ydata_cut})\n",
    "df.to_csv(\"fitting.FFssFF.N.294K.fitting.csv\", index=False, float_format='%.3f')"
   ]
  },
  {
   "cell_type": "code",
   "execution_count": null,
   "metadata": {},
   "outputs": [],
   "source": []
  }
 ],
 "metadata": {
  "kernelspec": {
   "display_name": "Python 3",
   "language": "python",
   "name": "python3"
  },
  "language_info": {
   "codemirror_mode": {
    "name": "ipython",
    "version": 3
   },
   "file_extension": ".py",
   "mimetype": "text/x-python",
   "name": "python",
   "nbconvert_exporter": "python",
   "pygments_lexer": "ipython3",
   "version": "3.8.3"
  }
 },
 "nbformat": 4,
 "nbformat_minor": 4
}
