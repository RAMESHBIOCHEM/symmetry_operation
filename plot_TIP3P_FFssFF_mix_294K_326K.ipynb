{
 "cells": [
  {
   "cell_type": "code",
   "execution_count": 1,
   "metadata": {},
   "outputs": [],
   "source": [
    "import matplotlib.pyplot as plt\n",
    "import numpy as np\n",
    "%matplotlib inline\n",
    "import scipy.stats as st\n",
    "import seaborn as sns\n",
    "import pandas as pd"
   ]
  },
  {
   "cell_type": "code",
   "execution_count": 70,
   "metadata": {},
   "outputs": [],
   "source": [
    "df = pd.read_csv(\"avg.N.SGL.294K.TIP3P.mod.dat\", delim_whitespace=True, names= [\"z\", \"p(z)\"])\n",
    "dff = pd.read_csv(\"avg.N.SGL.294K.TIP4PD.dat\", delim_whitespace=True, names= [\"z\", \"p(z)\"])"
   ]
  },
  {
   "cell_type": "code",
   "execution_count": 79,
   "metadata": {},
   "outputs": [],
   "source": [
    "df = pd.read_csv(\"FFssFF.N.SGL.294K.dat\", delim_whitespace=True, names= [\"z\", \"p(z)\"])\n",
    "dff = pd.read_csv(\"FFssFF.N.SGL.294K.TIP4PD.dat\", delim_whitespace=True, names= [\"z\", \"p(z)\"])"
   ]
  },
  {
   "cell_type": "code",
   "execution_count": 92,
   "metadata": {},
   "outputs": [
    {
     "data": {
      "text/html": [
       "<div>\n",
       "<style scoped>\n",
       "    .dataframe tbody tr th:only-of-type {\n",
       "        vertical-align: middle;\n",
       "    }\n",
       "\n",
       "    .dataframe tbody tr th {\n",
       "        vertical-align: top;\n",
       "    }\n",
       "\n",
       "    .dataframe thead th {\n",
       "        text-align: right;\n",
       "    }\n",
       "</style>\n",
       "<table border=\"1\" class=\"dataframe\">\n",
       "  <thead>\n",
       "    <tr style=\"text-align: right;\">\n",
       "      <th></th>\n",
       "      <th>z</th>\n",
       "      <th>p(z)</th>\n",
       "    </tr>\n",
       "  </thead>\n",
       "  <tbody>\n",
       "    <tr>\n",
       "      <th>0</th>\n",
       "      <td>-129.0</td>\n",
       "      <td>0.05</td>\n",
       "    </tr>\n",
       "    <tr>\n",
       "      <th>1</th>\n",
       "      <td>-127.0</td>\n",
       "      <td>0.07</td>\n",
       "    </tr>\n",
       "    <tr>\n",
       "      <th>2</th>\n",
       "      <td>-125.0</td>\n",
       "      <td>0.07</td>\n",
       "    </tr>\n",
       "    <tr>\n",
       "      <th>3</th>\n",
       "      <td>-123.0</td>\n",
       "      <td>0.06</td>\n",
       "    </tr>\n",
       "    <tr>\n",
       "      <th>4</th>\n",
       "      <td>-121.0</td>\n",
       "      <td>0.06</td>\n",
       "    </tr>\n",
       "    <tr>\n",
       "      <th>...</th>\n",
       "      <td>...</td>\n",
       "      <td>...</td>\n",
       "    </tr>\n",
       "    <tr>\n",
       "      <th>125</th>\n",
       "      <td>121.0</td>\n",
       "      <td>0.05</td>\n",
       "    </tr>\n",
       "    <tr>\n",
       "      <th>126</th>\n",
       "      <td>123.0</td>\n",
       "      <td>0.05</td>\n",
       "    </tr>\n",
       "    <tr>\n",
       "      <th>127</th>\n",
       "      <td>125.0</td>\n",
       "      <td>0.06</td>\n",
       "    </tr>\n",
       "    <tr>\n",
       "      <th>128</th>\n",
       "      <td>127.0</td>\n",
       "      <td>0.06</td>\n",
       "    </tr>\n",
       "    <tr>\n",
       "      <th>129</th>\n",
       "      <td>129.0</td>\n",
       "      <td>0.05</td>\n",
       "    </tr>\n",
       "  </tbody>\n",
       "</table>\n",
       "<p>130 rows × 2 columns</p>\n",
       "</div>"
      ],
      "text/plain": [
       "         z  p(z)\n",
       "0   -129.0  0.05\n",
       "1   -127.0  0.07\n",
       "2   -125.0  0.07\n",
       "3   -123.0  0.06\n",
       "4   -121.0  0.06\n",
       "..     ...   ...\n",
       "125  121.0  0.05\n",
       "126  123.0  0.05\n",
       "127  125.0  0.06\n",
       "128  127.0  0.06\n",
       "129  129.0  0.05\n",
       "\n",
       "[130 rows x 2 columns]"
      ]
     },
     "execution_count": 92,
     "metadata": {},
     "output_type": "execute_result"
    }
   ],
   "source": [
    "df"
   ]
  },
  {
   "cell_type": "code",
   "execution_count": 87,
   "metadata": {},
   "outputs": [],
   "source": [
    "df_con = pd.read_csv(\"avg.N.SGL.294K.TIP3P.mod.dat\", delim_whitespace=True, names= [\"z\", \"p(z)\"])"
   ]
  },
  {
   "cell_type": "code",
   "execution_count": 89,
   "metadata": {},
   "outputs": [],
   "source": [
    "df_con1 = df_con[\"p(z)\"]*0.2323"
   ]
  },
  {
   "cell_type": "code",
   "execution_count": 90,
   "metadata": {},
   "outputs": [
    {
     "data": {
      "text/plain": [
       "0     0.836280\n",
       "1     0.836280\n",
       "2     0.833957\n",
       "3     0.775882\n",
       "4     0.692254\n",
       "        ...   \n",
       "60    0.013938\n",
       "61    0.013938\n",
       "62    0.013938\n",
       "63    0.016261\n",
       "64    0.013938\n",
       "Name: p(z), Length: 65, dtype: float64"
      ]
     },
     "execution_count": 90,
     "metadata": {},
     "output_type": "execute_result"
    }
   ],
   "source": [
    "df_con1"
   ]
  },
  {
   "cell_type": "code",
   "execution_count": 34,
   "metadata": {},
   "outputs": [
    {
     "data": {
      "text/plain": [
       "0     3.60\n",
       "1     3.60\n",
       "2     3.59\n",
       "3     3.34\n",
       "4     2.98\n",
       "      ... \n",
       "60    0.06\n",
       "61    0.06\n",
       "62    0.06\n",
       "63    0.07\n",
       "64    0.06\n",
       "Name: p(z), Length: 65, dtype: float64"
      ]
     },
     "execution_count": 34,
     "metadata": {},
     "output_type": "execute_result"
    }
   ],
   "source": [
    "df['p(z)']"
   ]
  },
  {
   "cell_type": "code",
   "execution_count": 35,
   "metadata": {},
   "outputs": [],
   "source": [
    "df2 = (df['p(z)']*7415*166)/(51*51*258)"
   ]
  },
  {
   "cell_type": "code",
   "execution_count": 72,
   "metadata": {},
   "outputs": [],
   "source": [
    "dff2 = (dff['p(z)']*7415*166)/(51*51*325)"
   ]
  },
  {
   "cell_type": "code",
   "execution_count": 73,
   "metadata": {},
   "outputs": [
    {
     "data": {
      "text/plain": [
       "0     6.567076\n",
       "1     6.552515\n",
       "2     5.839019\n",
       "3     5.285696\n",
       "4     4.732372\n",
       "        ...   \n",
       "76    0.087367\n",
       "77    0.072806\n",
       "78    0.072806\n",
       "79    0.058245\n",
       "80    0.043683\n",
       "Name: p(z), Length: 81, dtype: float64"
      ]
     },
     "execution_count": 73,
     "metadata": {},
     "output_type": "execute_result"
    }
   ],
   "source": [
    "dff2"
   ]
  },
  {
   "cell_type": "code",
   "execution_count": 74,
   "metadata": {},
   "outputs": [],
   "source": [
    "dff3 = dff2/6.56"
   ]
  },
  {
   "cell_type": "code",
   "execution_count": 38,
   "metadata": {},
   "outputs": [],
   "source": [
    "df3= df2/6.6033"
   ]
  },
  {
   "cell_type": "code",
   "execution_count": 132,
   "metadata": {},
   "outputs": [
    {
     "data": {
      "image/png": "[encoded data removed]",
      "text/plain": [
       "<Figure size 576x432 with 1 Axes>"
      ]
     },
     "metadata": {
      "needs_background": "light"
     },
     "output_type": "display_data"
    }
   ],
   "source": [
    "from matplotlib.ticker import FormatStrFormatter\n",
    "fig = plt.figure(1034, figsize=(8,6))\n",
    "ax1 = fig.add_subplot(111)\n",
    "ax1.set_xlabel('Z (angstrom)',fontsize=20)\n",
    "ax1.set_ylabel('number', fontdict={'fontsize':20})\n",
    "ax1.scatter(df['z'], df['p(z)'],s=40, facecolors='none', edgecolors='r', label='Tip3P')\n",
    "ax1.scatter(dff['z'], dff['p(z)']/1.2457,s=40, facecolors='none', edgecolors='b', label='Tip4pd' )\n",
    "ax1.legend(frameon=False, prop={'size':14}, loc='upper right')\n",
    "ax1.set_xlim([-100, 100])\n",
    "#ax1.set_ylim([0, 1])\n",
    "#ax1.set_yscale('log')\n",
    "#ax1.yaxis.set_major_formatter(FormatStrFormatter('%.3f'))\n",
    "#ax1.yaxis.set_major_formatter(mtick.FormatStrFormatter('%.4f')) \n",
    "\n",
    "ax1.tick_params(axis ='both', which= 'major', left = 'bool', labelsize=20)\n",
    "ax1.tick_params(axis ='both', which= 'minor', left='bool', labelsize=20)\n",
    "ax1.tick_params(axis='both', which= 'major', bottom = 'bool', labelsize=20 )\n",
    "ax1.tick_params(axis='both', which= 'minor', bottom = 'bool', labelsize=20 )\n",
    "#fig.savefig('FFssFF.mix.294K.png',bbox_inches='tight', dpi=500)\n",
    "plt.title(\"FFssFF.mix.294K\")\n",
    "plt.show()"
   ]
  },
  {
   "cell_type": "code",
   "execution_count": null,
   "metadata": {},
   "outputs": [],
   "source": []
  },
  {
   "cell_type": "code",
   "execution_count": null,
   "metadata": {},
   "outputs": [],
   "source": []
  },
  {
   "cell_type": "code",
   "execution_count": 137,
   "metadata": {},
   "outputs": [],
   "source": [
    "df_con = pd.read_csv(\"avg.N.SGL.294K.TIP3P.dat\", delim_whitespace=True, names= [\"z\", \"p(z)\"])\n",
    "## conversion factor 0.2323 ((741.5 * 1.66 * 10-27)/(2*51.47*51.47*1*10-27))\n",
    "df_con ['conv'] = df_con[\"p(z)\"]*0.2323\n",
    "df_con.to_csv('out.FFssFFmix.294K.csv', index=False, columns=['z','conv'], float_format='%.3f')"
   ]
  },
  {
   "cell_type": "code",
   "execution_count": 134,
   "metadata": {},
   "outputs": [
    {
     "data": {
      "text/html": [
       "<div>\n",
       "<style scoped>\n",
       "    .dataframe tbody tr th:only-of-type {\n",
       "        vertical-align: middle;\n",
       "    }\n",
       "\n",
       "    .dataframe tbody tr th {\n",
       "        vertical-align: top;\n",
       "    }\n",
       "\n",
       "    .dataframe thead th {\n",
       "        text-align: right;\n",
       "    }\n",
       "</style>\n",
       "<table border=\"1\" class=\"dataframe\">\n",
       "  <thead>\n",
       "    <tr style=\"text-align: right;\">\n",
       "      <th></th>\n",
       "      <th>z</th>\n",
       "      <th>p(z)</th>\n",
       "      <th>conv</th>\n",
       "    </tr>\n",
       "  </thead>\n",
       "  <tbody>\n",
       "    <tr>\n",
       "      <th>0</th>\n",
       "      <td>1.0</td>\n",
       "      <td>3.39</td>\n",
       "      <td>0.787497</td>\n",
       "    </tr>\n",
       "    <tr>\n",
       "      <th>1</th>\n",
       "      <td>3.0</td>\n",
       "      <td>3.60</td>\n",
       "      <td>0.836280</td>\n",
       "    </tr>\n",
       "    <tr>\n",
       "      <th>2</th>\n",
       "      <td>5.0</td>\n",
       "      <td>3.59</td>\n",
       "      <td>0.833957</td>\n",
       "    </tr>\n",
       "    <tr>\n",
       "      <th>3</th>\n",
       "      <td>7.0</td>\n",
       "      <td>3.34</td>\n",
       "      <td>0.775882</td>\n",
       "    </tr>\n",
       "    <tr>\n",
       "      <th>4</th>\n",
       "      <td>9.0</td>\n",
       "      <td>2.98</td>\n",
       "      <td>0.692254</td>\n",
       "    </tr>\n",
       "    <tr>\n",
       "      <th>...</th>\n",
       "      <td>...</td>\n",
       "      <td>...</td>\n",
       "      <td>...</td>\n",
       "    </tr>\n",
       "    <tr>\n",
       "      <th>60</th>\n",
       "      <td>121.0</td>\n",
       "      <td>0.06</td>\n",
       "      <td>0.013938</td>\n",
       "    </tr>\n",
       "    <tr>\n",
       "      <th>61</th>\n",
       "      <td>123.0</td>\n",
       "      <td>0.06</td>\n",
       "      <td>0.013938</td>\n",
       "    </tr>\n",
       "    <tr>\n",
       "      <th>62</th>\n",
       "      <td>125.0</td>\n",
       "      <td>0.06</td>\n",
       "      <td>0.013938</td>\n",
       "    </tr>\n",
       "    <tr>\n",
       "      <th>63</th>\n",
       "      <td>127.0</td>\n",
       "      <td>0.07</td>\n",
       "      <td>0.016261</td>\n",
       "    </tr>\n",
       "    <tr>\n",
       "      <th>64</th>\n",
       "      <td>129.0</td>\n",
       "      <td>0.06</td>\n",
       "      <td>0.013938</td>\n",
       "    </tr>\n",
       "  </tbody>\n",
       "</table>\n",
       "<p>65 rows × 3 columns</p>\n",
       "</div>"
      ],
      "text/plain": [
       "        z  p(z)      conv\n",
       "0     1.0  3.39  0.787497\n",
       "1     3.0  3.60  0.836280\n",
       "2     5.0  3.59  0.833957\n",
       "3     7.0  3.34  0.775882\n",
       "4     9.0  2.98  0.692254\n",
       "..    ...   ...       ...\n",
       "60  121.0  0.06  0.013938\n",
       "61  123.0  0.06  0.013938\n",
       "62  125.0  0.06  0.013938\n",
       "63  127.0  0.07  0.016261\n",
       "64  129.0  0.06  0.013938\n",
       "\n",
       "[65 rows x 3 columns]"
      ]
     },
     "execution_count": 134,
     "metadata": {},
     "output_type": "execute_result"
    }
   ],
   "source": [
    "df_con"
   ]
  },
  {
   "cell_type": "code",
   "execution_count": 135,
   "metadata": {},
   "outputs": [
    {
     "data": {
      "text/plain": [
       "pandas.core.series.Series"
      ]
     },
     "execution_count": 135,
     "metadata": {},
     "output_type": "execute_result"
    }
   ],
   "source": [
    "type(df_con['z'])"
   ]
  },
  {
   "cell_type": "code",
   "execution_count": 136,
   "metadata": {},
   "outputs": [],
   "source": [
    "df_con.to_csv('out.FFssFFmix.294K.csv', index=False, columns=['z','conv'])"
   ]
  },
  {
   "cell_type": "code",
   "execution_count": 117,
   "metadata": {},
   "outputs": [
    {
     "data": {
      "image/png": "[encoded data removed]",
      "text/plain": [
       "<Figure size 432x432 with 1 Axes>"
      ]
     },
     "metadata": {
      "needs_background": "light"
     },
     "output_type": "display_data"
    }
   ],
   "source": [
    "from matplotlib.ticker import FormatStrFormatter\n",
    "fig = plt.figure(1034, figsize=(6,6))\n",
    "ax1 = fig.add_subplot(111)\n",
    "ax1.set_xlabel(\"z ($\\AA$)\",fontsize=20)\n",
    "ax1.set_ylabel(\"\\u03C1(z) (wt/wt)\", fontdict={'fontsize':20})\n",
    "ax1.scatter(df_con['z'], df_con1,s=40, facecolors='none', edgecolors='r')\n",
    "#ax1.scatter(dff['z'], dff['p(z)'],s=40, facecolors='none', edgecolors='b', label='Tip4pd' )\n",
    "#ax1.legend(frameon=False, prop={'size':14}, loc='upper right')\n",
    "ax1.set_xlim([0, 80])\n",
    "#ax1.set_ylim([-100, 100])\n",
    "ax1.set_yscale('log')\n",
    "ax1.yaxis.set_major_formatter(FormatStrFormatter('%.3f'))\n",
    "#ax1.yaxis.set_major_formatter(mtick.FormatStrFormatter('%.4f')) \n",
    "plt.grid(color = 'blue', linestyle = '--', linewidth = 0.5)\n",
    "ax1.tick_params(axis ='both', which= 'major', left = 'bool', labelsize=20)\n",
    "ax1.tick_params(axis ='both', which= 'minor', left='bool', labelsize=20)\n",
    "ax1.tick_params(axis='both', which= 'major', bottom = 'bool', labelsize=20 )\n",
    "ax1.tick_params(axis='both', which= 'minor', bottom = 'bool', labelsize=20 )\n",
    "plt.yticks([0.001, 0.01, 0.1, 1])\n",
    "#fig.savefig('FFssFF.mix.294K.png',bbox_inches='tight', dpi=500)\n",
    "plt.title(\"FFssFF.mix.294K\")\n",
    "plt.show()"
   ]
  },
  {
   "cell_type": "code",
   "execution_count": null,
   "metadata": {},
   "outputs": [],
   "source": []
  },
  {
   "cell_type": "code",
   "execution_count": null,
   "metadata": {},
   "outputs": [],
   "source": []
  },
  {
   "cell_type": "code",
   "execution_count": null,
   "metadata": {},
   "outputs": [],
   "source": []
  },
  {
   "cell_type": "code",
   "execution_count": null,
   "metadata": {},
   "outputs": [],
   "source": [
    "df1_con.to_csv('', index=False, columns=['z','conv'])"
   ]
  },
  {
   "cell_type": "code",
   "execution_count": null,
   "metadata": {},
   "outputs": [],
   "source": [
    "from matplotlib.ticker import FormatStrFormatter\n",
    "fig = plt.figure(1034, figsize=(6,6))\n",
    "ax1 = fig.add_subplot(111)\n",
    "ax1.set_xlabel(\"z ($\\AA$)\",fontsize=20)\n",
    "ax1.set_ylabel(\"\\u03C1(z) (wt/wt)\", fontdict={'fontsize':20})\n",
    "ax1.scatter(df_con['z'], df_con1,s=40, facecolors='none', edgecolors='r')\n",
    "#ax1.scatter(dff['z'], dff['p(z)'],s=40, facecolors='none', edgecolors='b', label='Tip4pd' )\n",
    "#ax1.legend(frameon=False, prop={'size':14}, loc='upper right')\n",
    "ax1.set_xlim([0, 80])\n",
    "#ax1.set_ylim([-100, 100])\n",
    "ax1.set_yscale('log')\n",
    "ax1.yaxis.set_major_formatter(FormatStrFormatter('%.3f'))\n",
    "#ax1.yaxis.set_major_formatter(mtick.FormatStrFormatter('%.4f')) \n",
    "plt.grid(color = 'blue', linestyle = '--', linewidth = 0.5)\n",
    "ax1.tick_params(axis ='both', which= 'major', left = 'bool', labelsize=20)\n",
    "ax1.tick_params(axis ='both', which= 'minor', left='bool', labelsize=20)\n",
    "ax1.tick_params(axis='both', which= 'major', bottom = 'bool', labelsize=20 )\n",
    "ax1.tick_params(axis='both', which= 'minor', bottom = 'bool', labelsize=20 )\n",
    "plt.yticks([0.001, 0.01, 0.1, 1])\n",
    "#fig.savefig('FFssFF.mix.294K.png',bbox_inches='tight', dpi=500)\n",
    "plt.title(\"FFssFF.mix.294K\")\n",
    "plt.show()"
   ]
  },
  {
   "cell_type": "code",
   "execution_count": null,
   "metadata": {},
   "outputs": [],
   "source": []
  }
 ],
 "metadata": {
  "kernelspec": {
   "display_name": "Python 3",
   "language": "python",
   "name": "python3"
  },
  "language_info": {
   "codemirror_mode": {
    "name": "ipython",
    "version": 3
   },
   "file_extension": ".py",
   "mimetype": "text/x-python",
   "name": "python",
   "nbconvert_exporter": "python",
   "pygments_lexer": "ipython3",
   "version": "3.8.3"
  }
 },
 "nbformat": 4,
 "nbformat_minor": 4
}
