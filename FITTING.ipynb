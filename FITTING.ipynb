{
 "cells": [
  {
   "cell_type": "code",
   "execution_count": 2,
   "metadata": {},
   "outputs": [],
   "source": [
    "import numpy as np\n",
    "import pandas as pd\n",
    "import matplotlib.pyplot as plt\n",
    "from scipy.optimize import curve_fit"
   ]
  },
  {
   "cell_type": "code",
   "execution_count": 6,
   "metadata": {},
   "outputs": [],
   "source": [
    "#df_con = pd.read_csv(\"../avg.N.SGL.294K.tt.dat\", delim_whitespace=True, names= [\"z\", \"p(z)\"])"
   ]
  },
  {
   "cell_type": "code",
   "execution_count": 7,
   "metadata": {},
   "outputs": [
    {
     "data": {
      "text/html": [
       "<div>\n",
       "<style scoped>\n",
       "    .dataframe tbody tr th:only-of-type {\n",
       "        vertical-align: middle;\n",
       "    }\n",
       "\n",
       "    .dataframe tbody tr th {\n",
       "        vertical-align: top;\n",
       "    }\n",
       "\n",
       "    .dataframe thead th {\n",
       "        text-align: right;\n",
       "    }\n",
       "</style>\n",
       "<table border=\"1\" class=\"dataframe\">\n",
       "  <thead>\n",
       "    <tr style=\"text-align: right;\">\n",
       "      <th></th>\n",
       "      <th>z</th>\n",
       "      <th>p(z)</th>\n",
       "    </tr>\n",
       "  </thead>\n",
       "  <tbody>\n",
       "    <tr>\n",
       "      <th>0</th>\n",
       "      <td>1.0</td>\n",
       "      <td>3.89</td>\n",
       "    </tr>\n",
       "    <tr>\n",
       "      <th>1</th>\n",
       "      <td>3.0</td>\n",
       "      <td>3.59</td>\n",
       "    </tr>\n",
       "    <tr>\n",
       "      <th>2</th>\n",
       "      <td>5.0</td>\n",
       "      <td>3.43</td>\n",
       "    </tr>\n",
       "    <tr>\n",
       "      <th>3</th>\n",
       "      <td>7.0</td>\n",
       "      <td>3.23</td>\n",
       "    </tr>\n",
       "    <tr>\n",
       "      <th>4</th>\n",
       "      <td>9.0</td>\n",
       "      <td>2.85</td>\n",
       "    </tr>\n",
       "    <tr>\n",
       "      <th>...</th>\n",
       "      <td>...</td>\n",
       "      <td>...</td>\n",
       "    </tr>\n",
       "    <tr>\n",
       "      <th>60</th>\n",
       "      <td>121.0</td>\n",
       "      <td>0.05</td>\n",
       "    </tr>\n",
       "    <tr>\n",
       "      <th>61</th>\n",
       "      <td>123.0</td>\n",
       "      <td>0.06</td>\n",
       "    </tr>\n",
       "    <tr>\n",
       "      <th>62</th>\n",
       "      <td>125.0</td>\n",
       "      <td>0.06</td>\n",
       "    </tr>\n",
       "    <tr>\n",
       "      <th>63</th>\n",
       "      <td>127.0</td>\n",
       "      <td>0.07</td>\n",
       "    </tr>\n",
       "    <tr>\n",
       "      <th>64</th>\n",
       "      <td>129.0</td>\n",
       "      <td>0.06</td>\n",
       "    </tr>\n",
       "  </tbody>\n",
       "</table>\n",
       "<p>65 rows × 2 columns</p>\n",
       "</div>"
      ],
      "text/plain": [
       "        z  p(z)\n",
       "0     1.0  3.89\n",
       "1     3.0  3.59\n",
       "2     5.0  3.43\n",
       "3     7.0  3.23\n",
       "4     9.0  2.85\n",
       "..    ...   ...\n",
       "60  121.0  0.05\n",
       "61  123.0  0.06\n",
       "62  125.0  0.06\n",
       "63  127.0  0.07\n",
       "64  129.0  0.06\n",
       "\n",
       "[65 rows x 2 columns]"
      ]
     },
     "execution_count": 7,
     "metadata": {},
     "output_type": "execute_result"
    }
   ],
   "source": [
    "#df_con"
   ]
  },
  {
   "cell_type": "code",
   "execution_count": 11,
   "metadata": {},
   "outputs": [],
   "source": [
    "## data conversion for wt/wt factor\n",
    "#df_con = pd.read_csv(\"avg.N.SGL.294K.tt.dat\", delim_whitespace=True, names= [\"z\", \"p(z)\"])\n",
    "## conversion factor 0.2323 ((741.5 * 1.66 * 10-27)/(2*51.47*51.47*1*10-27))\n",
    "#df_con ['conv'] = df_con[\"p(z)\"]*0.2323\n",
    "#df_con.to_csv('out.FFssFFmix.294K.tt.csv', index=False, columns=['z','conv'], float_format='%.3f')\n",
    "\n",
    "from numpy import genfromtxt\n",
    "data = genfromtxt('../avg.N.SGL.294K.tt.dat', delimiter=' ')\n",
    "#data = np.loadcsv('out.FFssFFmix.294K.csv')\n"
   ]
  },
  {
   "cell_type": "code",
   "execution_count": 108,
   "metadata": {},
   "outputs": [
    {
     "data": {
      "text/html": [
       "<div>\n",
       "<style scoped>\n",
       "    .dataframe tbody tr th:only-of-type {\n",
       "        vertical-align: middle;\n",
       "    }\n",
       "\n",
       "    .dataframe tbody tr th {\n",
       "        vertical-align: top;\n",
       "    }\n",
       "\n",
       "    .dataframe thead th {\n",
       "        text-align: right;\n",
       "    }\n",
       "</style>\n",
       "<table border=\"1\" class=\"dataframe\">\n",
       "  <thead>\n",
       "    <tr style=\"text-align: right;\">\n",
       "      <th></th>\n",
       "      <th>z</th>\n",
       "      <th>p(z)</th>\n",
       "      <th>conv</th>\n",
       "    </tr>\n",
       "  </thead>\n",
       "  <tbody>\n",
       "    <tr>\n",
       "      <th>0</th>\n",
       "      <td>1.0</td>\n",
       "      <td>3.39</td>\n",
       "      <td>0.76953</td>\n",
       "    </tr>\n",
       "    <tr>\n",
       "      <th>1</th>\n",
       "      <td>3.0</td>\n",
       "      <td>3.36</td>\n",
       "      <td>0.76272</td>\n",
       "    </tr>\n",
       "    <tr>\n",
       "      <th>2</th>\n",
       "      <td>5.0</td>\n",
       "      <td>3.17</td>\n",
       "      <td>0.71959</td>\n",
       "    </tr>\n",
       "    <tr>\n",
       "      <th>3</th>\n",
       "      <td>7.0</td>\n",
       "      <td>2.96</td>\n",
       "      <td>0.67192</td>\n",
       "    </tr>\n",
       "    <tr>\n",
       "      <th>4</th>\n",
       "      <td>9.0</td>\n",
       "      <td>2.70</td>\n",
       "      <td>0.61290</td>\n",
       "    </tr>\n",
       "    <tr>\n",
       "      <th>...</th>\n",
       "      <td>...</td>\n",
       "      <td>...</td>\n",
       "      <td>...</td>\n",
       "    </tr>\n",
       "    <tr>\n",
       "      <th>60</th>\n",
       "      <td>121.0</td>\n",
       "      <td>0.14</td>\n",
       "      <td>0.03178</td>\n",
       "    </tr>\n",
       "    <tr>\n",
       "      <th>61</th>\n",
       "      <td>123.0</td>\n",
       "      <td>0.15</td>\n",
       "      <td>0.03405</td>\n",
       "    </tr>\n",
       "    <tr>\n",
       "      <th>62</th>\n",
       "      <td>125.0</td>\n",
       "      <td>0.15</td>\n",
       "      <td>0.03405</td>\n",
       "    </tr>\n",
       "    <tr>\n",
       "      <th>63</th>\n",
       "      <td>127.0</td>\n",
       "      <td>0.15</td>\n",
       "      <td>0.03405</td>\n",
       "    </tr>\n",
       "    <tr>\n",
       "      <th>64</th>\n",
       "      <td>129.0</td>\n",
       "      <td>0.14</td>\n",
       "      <td>0.03178</td>\n",
       "    </tr>\n",
       "  </tbody>\n",
       "</table>\n",
       "<p>65 rows × 3 columns</p>\n",
       "</div>"
      ],
      "text/plain": [
       "        z  p(z)     conv\n",
       "0     1.0  3.39  0.76953\n",
       "1     3.0  3.36  0.76272\n",
       "2     5.0  3.17  0.71959\n",
       "3     7.0  2.96  0.67192\n",
       "4     9.0  2.70  0.61290\n",
       "..    ...   ...      ...\n",
       "60  121.0  0.14  0.03178\n",
       "61  123.0  0.15  0.03405\n",
       "62  125.0  0.15  0.03405\n",
       "63  127.0  0.15  0.03405\n",
       "64  129.0  0.14  0.03178\n",
       "\n",
       "[65 rows x 3 columns]"
      ]
     },
     "execution_count": 108,
     "metadata": {},
     "output_type": "execute_result"
    }
   ],
   "source": [
    "df_con"
   ]
  },
  {
   "cell_type": "code",
   "execution_count": 143,
   "metadata": {
    "scrolled": true
   },
   "outputs": [
    {
     "name": "stdout",
     "output_type": "stream",
     "text": [
      "[ 0.80508088  0.02532451  8.58500028 14.08835424]\n"
     ]
    },
    {
     "data": {
      "image/png": "[encoded data removed]",
      "text/plain": [
       "<Figure size 432x288 with 1 Axes>"
      ]
     },
     "metadata": {
      "needs_background": "light"
     },
     "output_type": "display_data"
    }
   ],
   "source": [
    "## data conversion from avg value to wt/wt:\n",
    "#df_con = pd.read_csv(\"../avg.N.SGL.326K.tt.dat\", delim_whitespace=True, names= [\"z\", \"p(z)\"])\n",
    "df_con = pd.read_csv(\"../avg.N.SGL.360K.ramp.tt.dat\", delim_whitespace=True, names= [\"z\", \"p(z)\"])\n",
    "\n",
    "## conversion factor 0.2323 for 294K ((741.5 * 1.66 * 10-27)/(2*51.47*51.47*1*10-27))\n",
    "## conver fact for 310K is 0.229 (((741.5 * 1.66 * 10-27)/(2*51.78*51.78*1*10-27)))\n",
    "## convert fact for 326K is 0.227\n",
    "## convert fact for 340K is 0.2248\n",
    "## convert fact for 340K and 360K ramp is 0.2272\n",
    "\n",
    "df_con ['conv'] = df_con[\"p(z)\"]*0.2272\n",
    "df_con.to_csv('../out.FFssFFmix.360K.ramp.conv.csv', index=False, columns=['z','conv'], float_format='%.3f')\n",
    "\n",
    "from numpy import genfromtxt\n",
    "data = genfromtxt('../out.FFssFFmix.360K.ramp.conv.csv', delimiter=',', skip_header=1)\n",
    "#data = genfromtxt('../avg.N.SGL.360K.Ramp.dat', delimiter=' ')\n",
    "def func(x,a, b,w,z):\n",
    "    # return 1- np.exp(-(k*x)**n)\n",
    "    return ((a+b)/2) - ((a-b)/2)*np.tanh((x-z)/w)\n",
    "\n",
    "xdata = data[:,0]\n",
    "ydata = data[:,1]\n",
    "xdata_cut = []\n",
    "ydata_cut = []\n",
    "for i in range(len(xdata)):\n",
    "    if xdata[i] < 130:\n",
    "        xdata_cut.append(xdata[i])\n",
    "        ydata_cut.append(ydata[i])\n",
    "\n",
    "popt, pcov = curve_fit(func, xdata_cut, ydata_cut,p0=np.asarray([1,0.003,0.9,17.4]))\n",
    "print(popt)\n",
    "plt.plot(xdata_cut, func(xdata_cut, *popt), 'r--',linewidth=3)\n",
    "# plt.plot(xdata_cut,ydata_cut,'o',color='blue',label=r'T=0.65,$\\rho$=%0.5f,R=%0.2f,w=%0.2f'%(popt[0],popt[3],popt[2]))\n",
    "plt.plot(xdata_cut,ydata_cut,'o',markersize=4,color='blue',label=r'T=0.65')\n",
    "\n",
    "#import pandas as pd\n",
    "#df = pd.DataFrame({\"z\" : xdata_cut, \"p(z)\" : pz_tolist, \"raw_p(z)\": ydata_cut})\n",
    "#df.to_csv(\"FFssFF.N.294K.fitting.csv\", index=False, float_format='%.3f')\n",
    "\n",
    "pz_tolist= (func(xdata_cut,*popt)).tolist()\n",
    "#import pandas as pd\n",
    "ddf = pd.DataFrame({\"z\" : xdata_cut, \"p(z)\" : pz_tolist, \"raw_p(z)\": ydata_cut})\n",
    "ddf.to_csv(\"FIT.FFssFF.360K.ramp.csv\", index=False, float_format='%.3f')"
   ]
  },
  {
   "cell_type": "code",
   "execution_count": 125,
   "metadata": {},
   "outputs": [],
   "source": [
    "pz_tolist= (func(xdata_cut,*popt)).tolist()"
   ]
  },
  {
   "cell_type": "code",
   "execution_count": null,
   "metadata": {},
   "outputs": [],
   "source": []
  },
  {
   "cell_type": "code",
   "execution_count": 121,
   "metadata": {},
   "outputs": [
    {
     "data": {
      "text/plain": [
       "list"
      ]
     },
     "execution_count": 121,
     "metadata": {},
     "output_type": "execute_result"
    }
   ],
   "source": [
    "type(pz_tolist)"
   ]
  },
  {
   "cell_type": "code",
   "execution_count": 131,
   "metadata": {},
   "outputs": [
    {
     "data": {
      "text/plain": [
       "65"
      ]
     },
     "execution_count": 131,
     "metadata": {},
     "output_type": "execute_result"
    }
   ],
   "source": [
    "len(ydata_cut)"
   ]
  },
  {
   "cell_type": "code",
   "execution_count": 130,
   "metadata": {},
   "outputs": [],
   "source": [
    "pz_tolist= (func(xdata_cut,*popt)).tolist()\n",
    "#import pandas as pd\n",
    "ddf = pd.DataFrame({\"z\" : xdata_cut, \"p(z)\" : pz_tolist, \"raw_p(z)\": ydata_cut})\n",
    "ddf.to_csv(\"NEW.FIT.FFssFF.csv\", index=False, float_format='%.3f')"
   ]
  },
  {
   "cell_type": "code",
   "execution_count": null,
   "metadata": {},
   "outputs": [],
   "source": []
  },
  {
   "cell_type": "code",
   "execution_count": null,
   "metadata": {},
   "outputs": [],
   "source": []
  },
  {
   "cell_type": "code",
   "execution_count": 148,
   "metadata": {},
   "outputs": [],
   "source": [
    "ddff = pd.read_csv(\"FIT.FFssFF.294K.csv\", delim_whitespace=False)"
   ]
  },
  {
   "cell_type": "code",
   "execution_count": 151,
   "metadata": {},
   "outputs": [
    {
     "data": {
      "text/html": [
       "<div>\n",
       "<style scoped>\n",
       "    .dataframe tbody tr th:only-of-type {\n",
       "        vertical-align: middle;\n",
       "    }\n",
       "\n",
       "    .dataframe tbody tr th {\n",
       "        vertical-align: top;\n",
       "    }\n",
       "\n",
       "    .dataframe thead th {\n",
       "        text-align: right;\n",
       "    }\n",
       "</style>\n",
       "<table border=\"1\" class=\"dataframe\">\n",
       "  <thead>\n",
       "    <tr style=\"text-align: right;\">\n",
       "      <th></th>\n",
       "      <th>z</th>\n",
       "      <th>p(z)</th>\n",
       "      <th>raw_p(z)</th>\n",
       "    </tr>\n",
       "  </thead>\n",
       "  <tbody>\n",
       "    <tr>\n",
       "      <th>0</th>\n",
       "      <td>1.0</td>\n",
       "      <td>0.834</td>\n",
       "      <td>0.787</td>\n",
       "    </tr>\n",
       "    <tr>\n",
       "      <th>1</th>\n",
       "      <td>3.0</td>\n",
       "      <td>0.816</td>\n",
       "      <td>0.836</td>\n",
       "    </tr>\n",
       "    <tr>\n",
       "      <th>2</th>\n",
       "      <td>5.0</td>\n",
       "      <td>0.790</td>\n",
       "      <td>0.834</td>\n",
       "    </tr>\n",
       "    <tr>\n",
       "      <th>3</th>\n",
       "      <td>7.0</td>\n",
       "      <td>0.753</td>\n",
       "      <td>0.776</td>\n",
       "    </tr>\n",
       "    <tr>\n",
       "      <th>4</th>\n",
       "      <td>9.0</td>\n",
       "      <td>0.703</td>\n",
       "      <td>0.692</td>\n",
       "    </tr>\n",
       "    <tr>\n",
       "      <th>...</th>\n",
       "      <td>...</td>\n",
       "      <td>...</td>\n",
       "      <td>...</td>\n",
       "    </tr>\n",
       "    <tr>\n",
       "      <th>60</th>\n",
       "      <td>121.0</td>\n",
       "      <td>0.009</td>\n",
       "      <td>0.014</td>\n",
       "    </tr>\n",
       "    <tr>\n",
       "      <th>61</th>\n",
       "      <td>123.0</td>\n",
       "      <td>0.009</td>\n",
       "      <td>0.014</td>\n",
       "    </tr>\n",
       "    <tr>\n",
       "      <th>62</th>\n",
       "      <td>125.0</td>\n",
       "      <td>0.009</td>\n",
       "      <td>0.014</td>\n",
       "    </tr>\n",
       "    <tr>\n",
       "      <th>63</th>\n",
       "      <td>127.0</td>\n",
       "      <td>0.009</td>\n",
       "      <td>0.016</td>\n",
       "    </tr>\n",
       "    <tr>\n",
       "      <th>64</th>\n",
       "      <td>129.0</td>\n",
       "      <td>0.009</td>\n",
       "      <td>0.014</td>\n",
       "    </tr>\n",
       "  </tbody>\n",
       "</table>\n",
       "<p>65 rows × 3 columns</p>\n",
       "</div>"
      ],
      "text/plain": [
       "        z   p(z)  raw_p(z)\n",
       "0     1.0  0.834     0.787\n",
       "1     3.0  0.816     0.836\n",
       "2     5.0  0.790     0.834\n",
       "3     7.0  0.753     0.776\n",
       "4     9.0  0.703     0.692\n",
       "..    ...    ...       ...\n",
       "60  121.0  0.009     0.014\n",
       "61  123.0  0.009     0.014\n",
       "62  125.0  0.009     0.014\n",
       "63  127.0  0.009     0.016\n",
       "64  129.0  0.009     0.014\n",
       "\n",
       "[65 rows x 3 columns]"
      ]
     },
     "execution_count": 151,
     "metadata": {},
     "output_type": "execute_result"
    }
   ],
   "source": [
    "ddff"
   ]
  },
  {
   "cell_type": "code",
   "execution_count": 163,
   "metadata": {},
   "outputs": [
    {
     "data": {
      "image/png": "[encoded data removed]",
      "text/plain": [
       "<Figure size 432x432 with 1 Axes>"
      ]
     },
     "metadata": {
      "needs_background": "light"
     },
     "output_type": "display_data"
    }
   ],
   "source": [
    "## read FIT data\n",
    "ddff = pd.read_csv(\"FIT.FFssFF.360K.ramp.csv\", delim_whitespace=False)\n",
    "from matplotlib.ticker import FormatStrFormatter\n",
    "fig = plt.figure(1034, figsize=(6,6))\n",
    "ax1 = fig.add_subplot(111)\n",
    "ax1.set_xlabel(\"z ($\\AA$)\",fontsize=24)\n",
    "ax1.set_ylabel(\"\\u03C1(z) (wt/wt)\", fontdict={'fontsize':24})\n",
    "ax1.scatter(ddff['z'], ddff['raw_p(z)'],s=40, facecolors='none', edgecolors='b')\n",
    "plt.plot(ddff['z'], ddff['p(z)'], 'b--',linewidth=2)\n",
    "#ax1.scatter(dff['z'], dff['p(z)'],s=40, facecolors='none', edgecolors='b', label='Tip4pd' )\n",
    "#ax1.legend(frameon=False, prop={'size':14}, loc='upper right')\n",
    "ax1.set_xlim([0, 80])\n",
    "#ax1.set_ylim([-100, 100])\n",
    "ax1.set_yscale('log')\n",
    "ax1.yaxis.set_major_formatter(FormatStrFormatter('%.3f'))\n",
    "#ax1.yaxis.set_major_formatter(mtick.FormatStrFormatter('%.4f')) \n",
    "plt.grid(color = 'blue', linestyle = '--', linewidth = 0.5)\n",
    "ax1.tick_params(axis ='both', which= 'major', left = 'bool', labelsize=20)\n",
    "ax1.tick_params(axis ='both', which= 'minor', left='bool', labelsize=20)\n",
    "ax1.tick_params(axis='both', which= 'major', bottom = 'bool', labelsize=20 )\n",
    "ax1.tick_params(axis='both', which= 'minor', bottom = 'bool', labelsize=20 )\n",
    "plt.yticks([0.001, 0.01, 0.1, 1])\n",
    "fig.savefig('FFssFF.mix.FIT.FINAL.360K.ramp.png',bbox_inches='tight', dpi=500)\n",
    "#plt.title(\"FFssFF.mix.294K\")\n",
    "plt.show()"
   ]
  },
  {
   "cell_type": "markdown",
   "metadata": {},
   "source": [
    "# Temp and Density plot"
   ]
  },
  {
   "cell_type": "code",
   "execution_count": 166,
   "metadata": {},
   "outputs": [],
   "source": [
    "den = pd.read_csv(\"FIT.TEMP.DENSITY.csv\", delim_whitespace=False)"
   ]
  },
  {
   "cell_type": "code",
   "execution_count": 194,
   "metadata": {},
   "outputs": [
    {
     "data": {
      "text/html": [
       "<div>\n",
       "<style scoped>\n",
       "    .dataframe tbody tr th:only-of-type {\n",
       "        vertical-align: middle;\n",
       "    }\n",
       "\n",
       "    .dataframe tbody tr th {\n",
       "        vertical-align: top;\n",
       "    }\n",
       "\n",
       "    .dataframe thead th {\n",
       "        text-align: right;\n",
       "    }\n",
       "</style>\n",
       "<table border=\"1\" class=\"dataframe\">\n",
       "  <thead>\n",
       "    <tr style=\"text-align: right;\">\n",
       "      <th></th>\n",
       "      <th>t</th>\n",
       "      <th>p(bulk)</th>\n",
       "      <th>p(den)</th>\n",
       "    </tr>\n",
       "  </thead>\n",
       "  <tbody>\n",
       "    <tr>\n",
       "      <th>0</th>\n",
       "      <td>290</td>\n",
       "      <td>0.0090</td>\n",
       "      <td>0.8701</td>\n",
       "    </tr>\n",
       "    <tr>\n",
       "      <th>1</th>\n",
       "      <td>310</td>\n",
       "      <td>0.0203</td>\n",
       "      <td>0.8497</td>\n",
       "    </tr>\n",
       "    <tr>\n",
       "      <th>2</th>\n",
       "      <td>326</td>\n",
       "      <td>0.0240</td>\n",
       "      <td>0.8339</td>\n",
       "    </tr>\n",
       "    <tr>\n",
       "      <th>3</th>\n",
       "      <td>340</td>\n",
       "      <td>0.0220</td>\n",
       "      <td>0.8162</td>\n",
       "    </tr>\n",
       "    <tr>\n",
       "      <th>4</th>\n",
       "      <td>360</td>\n",
       "      <td>0.0250</td>\n",
       "      <td>0.8053</td>\n",
       "    </tr>\n",
       "  </tbody>\n",
       "</table>\n",
       "</div>"
      ],
      "text/plain": [
       "     t  p(bulk)  p(den)\n",
       "0  290   0.0090  0.8701\n",
       "1  310   0.0203  0.8497\n",
       "2  326   0.0240  0.8339\n",
       "3  340   0.0220  0.8162\n",
       "4  360   0.0250  0.8053"
      ]
     },
     "execution_count": 194,
     "metadata": {},
     "output_type": "execute_result"
    }
   ],
   "source": [
    "den"
   ]
  },
  {
   "cell_type": "code",
   "execution_count": 196,
   "metadata": {},
   "outputs": [],
   "source": [
    "x1= den['p(den)']\n",
    "y1= den['t']\n",
    "\n",
    "x2= den['p(bulk)']\n",
    "y1= den['t']"
   ]
  },
  {
   "cell_type": "code",
   "execution_count": 224,
   "metadata": {},
   "outputs": [
    {
     "data": {
      "image/png": "[encoded data removed]",
      "text/plain": [
       "<Figure size 432x432 with 1 Axes>"
      ]
     },
     "metadata": {
      "needs_background": "light"
     },
     "output_type": "display_data"
    }
   ],
   "source": [
    "## read FIT data\n",
    "den = pd.read_csv(\"FIT.TEMP.DENSITY.csv\", delim_whitespace=False)\n",
    "\n",
    "x1= den['p(den)']\n",
    "y1= den['t']\n",
    "\n",
    "x2= den['p(bulk)']\n",
    "y1= den['t']\n",
    "from matplotlib.ticker import FormatStrFormatter\n",
    "fig = plt.figure(1034, figsize=(6,6))\n",
    "ax1 = fig.add_subplot(111)\n",
    "ax1.set_ylabel(\"T (K)\",fontsize=28)\n",
    "ax1.set_xlabel(\"\\u03C1 (wt/wt)\", fontdict={'fontsize':28})\n",
    "plt.plot(x1,y1, 'r--',linewidth=2)\n",
    "ax1.scatter(x1, y1, marker='o', color='black', s=60)\n",
    "\n",
    "\n",
    "\n",
    "##################################3\n",
    "#ax1.scatter(x2, y1,s=60, edgecolors='black')\n",
    "\n",
    "plt.plot(x2,y1, 'r--',linewidth=2)\n",
    "ax1.scatter(x2, y1, marker='o', color='black', s=60)\n",
    "\n",
    "#plt.plot(den['t'], den['p(den)'], s=40, facecolors='none', edgecolors='r')\n",
    "#ax1.scatter(dff['z'], dff['p(z)'],s=40, facecolors='none', edgecolors='b', label='Tip4pd' )\n",
    "#ax1.legend(frameon=False, prop={'size':14}, loc='upper right')\n",
    "#ax1.set_xlim([0, 80])\n",
    "#ax1.set_ylim([-100, 100])\n",
    "ax1.set_xscale('log')\n",
    "ax1.xaxis.set_major_formatter(FormatStrFormatter('%.3f'))\n",
    "#ax1.xaxis.set_major_formatter(mtick.FormatStrFormatter('%.4f')) \n",
    "plt.grid(color = 'black', linestyle = '--', linewidth = 0.3)\n",
    "ax1.tick_params(axis ='both', which= 'major', left = 'bool', labelsize=20)\n",
    "ax1.tick_params(axis ='both', which= 'minor', left='bool', labelsize=20)\n",
    "ax1.tick_params(axis='both', which= 'major', bottom = 'bool', labelsize=20 )\n",
    "ax1.tick_params(axis='both', which= 'minor', bottom = 'bool', labelsize=20 )\n",
    "plt.xticks([0.001, 0.01, 0.1, 1])\n",
    "plt.yticks([290,310,330,350])\n",
    "fig.savefig('TempvsDensity.png',bbox_inches='tight', dpi=500)\n",
    "#plt.title(\"FFssFF.mix.294K\")\n",
    "plt.show()"
   ]
  },
  {
   "cell_type": "code",
   "execution_count": null,
   "metadata": {},
   "outputs": [],
   "source": []
  },
  {
   "cell_type": "code",
   "execution_count": null,
   "metadata": {},
   "outputs": [],
   "source": []
  },
  {
   "cell_type": "code",
   "execution_count": null,
   "metadata": {},
   "outputs": [],
   "source": []
  },
  {
   "cell_type": "code",
   "execution_count": null,
   "metadata": {},
   "outputs": [],
   "source": []
  },
  {
   "cell_type": "code",
   "execution_count": null,
   "metadata": {},
   "outputs": [],
   "source": []
  },
  {
   "cell_type": "code",
   "execution_count": null,
   "metadata": {},
   "outputs": [],
   "source": []
  },
  {
   "cell_type": "code",
   "execution_count": null,
   "metadata": {},
   "outputs": [],
   "source": []
  },
  {
   "cell_type": "code",
   "execution_count": null,
   "metadata": {},
   "outputs": [],
   "source": []
  },
  {
   "cell_type": "code",
   "execution_count": 105,
   "metadata": {},
   "outputs": [
    {
     "data": {
      "text/plain": [
       "32"
      ]
     },
     "execution_count": 105,
     "metadata": {},
     "output_type": "execute_result"
    }
   ],
   "source": [
    "len(ydata_cut)"
   ]
  },
  {
   "cell_type": "code",
   "execution_count": 45,
   "metadata": {},
   "outputs": [
    {
     "data": {
      "text/plain": [
       "list"
      ]
     },
     "execution_count": 45,
     "metadata": {},
     "output_type": "execute_result"
    }
   ],
   "source": [
    "type(ydata_cut)"
   ]
  },
  {
   "cell_type": "code",
   "execution_count": null,
   "metadata": {},
   "outputs": [],
   "source": []
  },
  {
   "cell_type": "code",
   "execution_count": 20,
   "metadata": {},
   "outputs": [],
   "source": [
    "pz= func(xdata_cut, *popt)"
   ]
  },
  {
   "cell_type": "code",
   "execution_count": 24,
   "metadata": {},
   "outputs": [
    {
     "data": {
      "text/plain": [
       "numpy.ndarray"
      ]
     },
     "execution_count": 24,
     "metadata": {},
     "output_type": "execute_result"
    }
   ],
   "source": [
    "type(pz)"
   ]
  },
  {
   "cell_type": "code",
   "execution_count": 25,
   "metadata": {},
   "outputs": [
    {
     "data": {
      "text/plain": [
       "40"
      ]
     },
     "execution_count": 25,
     "metadata": {},
     "output_type": "execute_result"
    }
   ],
   "source": [
    "len(pz)"
   ]
  },
  {
   "cell_type": "code",
   "execution_count": 32,
   "metadata": {},
   "outputs": [],
   "source": [
    "pz_tolist = pz.tolist()"
   ]
  },
  {
   "cell_type": "code",
   "execution_count": 31,
   "metadata": {},
   "outputs": [
    {
     "data": {
      "text/plain": [
       "40"
      ]
     },
     "execution_count": 31,
     "metadata": {},
     "output_type": "execute_result"
    }
   ],
   "source": [
    "len(pz_tolist)"
   ]
  },
  {
   "cell_type": "code",
   "execution_count": 26,
   "metadata": {},
   "outputs": [
    {
     "data": {
      "text/plain": [
       "40"
      ]
     },
     "execution_count": 26,
     "metadata": {},
     "output_type": "execute_result"
    }
   ],
   "source": [
    "len(xdata_cut)"
   ]
  },
  {
   "cell_type": "code",
   "execution_count": 27,
   "metadata": {},
   "outputs": [
    {
     "data": {
      "text/plain": [
       "list"
      ]
     },
     "execution_count": 27,
     "metadata": {},
     "output_type": "execute_result"
    }
   ],
   "source": [
    "type(xdata_cut)"
   ]
  },
  {
   "cell_type": "code",
   "execution_count": 47,
   "metadata": {},
   "outputs": [],
   "source": [
    "import pandas as pd\n",
    "df = pd.DataFrame({\"z\" : xdata_cut, \"p(z)\" : pz_tolist, \"raw_p(z)\": ydata_cut})\n",
    "df.to_csv(\"FFssFF.N.294K.fitting.csv\", index=False, float_format='%.3f')"
   ]
  },
  {
   "cell_type": "code",
   "execution_count": null,
   "metadata": {},
   "outputs": [],
   "source": []
  }
 ],
 "metadata": {
  "kernelspec": {
   "display_name": "Python 3",
   "language": "python",
   "name": "python3"
  },
  "language_info": {
   "codemirror_mode": {
    "name": "ipython",
    "version": 3
   },
   "file_extension": ".py",
   "mimetype": "text/x-python",
   "name": "python",
   "nbconvert_exporter": "python",
   "pygments_lexer": "ipython3",
   "version": "3.8.3"
  }
 },
 "nbformat": 4,
 "nbformat_minor": 4
}
